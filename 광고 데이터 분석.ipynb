{
 "cells": [
  {
   "cell_type": "code",
   "execution_count": null,
   "metadata": {},
   "outputs": [],
   "source": []
  },
  {
   "cell_type": "markdown",
   "metadata": {},
   "source": [
    "### # Domain Knowledge 2 : 광고성과지표\n",
    "| 광고성과지표 | = | 계산식 |\n",
    "|:---------- |---------- |:---------- |\n",
    "|CTR(Click Through Rate)|=|클릭수 / 노출수 * 100|\n",
    "|CPM(Cost Per Mile)|=|광고비용 / 노출수 * 1000|\n",
    "|CPC(Cost Per Click)|=|광고비용 / 클릭수|\n",
    "|CPA(Cost Per Action)|=|광고비용 / 구매수|"
   ]
  },
  {
   "cell_type": "markdown",
   "metadata": {},
   "source": [
    "----------------------"
   ]
  },
  {
   "cell_type": "code",
   "execution_count": 49,
   "metadata": {},
   "outputs": [],
   "source": [
    "import pandas as pd\n",
    "from pandas import DataFrame\n",
    "from pandas import Series\n",
    "\n",
    "import matplotlib.pyplot as plt"
   ]
  },
  {
   "cell_type": "code",
   "execution_count": 3,
   "metadata": {},
   "outputs": [],
   "source": [
    "# matplotlib 한글 폰트 출력코드\n",
    "# 출처 : 데이터공방( https://kiddwannabe.blog.me)\n",
    "\n",
    "import matplotlib\n",
    "from matplotlib import font_manager, rc\n",
    "import platform\n",
    "\n",
    "try : \n",
    "    if platform.system() == 'Windows':\n",
    "    # 윈도우인 경우\n",
    "        font_name = font_manager.FontProperties(fname=\"c:/Windows/Fonts/malgun.ttf\").get_name()\n",
    "        rc('font', family=font_name)\n",
    "    else:    \n",
    "    # Mac 인 경우\n",
    "        rc('font', family='AppleGothic')\n",
    "except : \n",
    "    pass\n",
    "matplotlib.rcParams['axes.unicode_minus'] = False   "
   ]
  },
  {
   "cell_type": "code",
   "execution_count": null,
   "metadata": {},
   "outputs": [],
   "source": []
  },
  {
   "cell_type": "code",
   "execution_count": 22,
   "metadata": {},
   "outputs": [
    {
     "data": {
      "text/html": [
       "<div>\n",
       "<style scoped>\n",
       "    .dataframe tbody tr th:only-of-type {\n",
       "        vertical-align: middle;\n",
       "    }\n",
       "\n",
       "    .dataframe tbody tr th {\n",
       "        vertical-align: top;\n",
       "    }\n",
       "\n",
       "    .dataframe thead th {\n",
       "        text-align: right;\n",
       "    }\n",
       "</style>\n",
       "<table border=\"1\" class=\"dataframe\">\n",
       "  <thead>\n",
       "    <tr style=\"text-align: right;\">\n",
       "      <th></th>\n",
       "      <th>광고그룹</th>\n",
       "      <th>키워드</th>\n",
       "      <th>노출수</th>\n",
       "      <th>클릭수</th>\n",
       "      <th>클릭률(%)</th>\n",
       "      <th>평균클릭비용(VAT포함,원)</th>\n",
       "      <th>총비용(VAT포함,원)</th>\n",
       "    </tr>\n",
       "  </thead>\n",
       "  <tbody>\n",
       "    <tr>\n",
       "      <th>0</th>\n",
       "      <td>올인원 패키지 : 디자인 툴_파워컨텐츠_포토샵</td>\n",
       "      <td>-</td>\n",
       "      <td>2319456</td>\n",
       "      <td>9606.0</td>\n",
       "      <td>0.414149</td>\n",
       "      <td>261.549448</td>\n",
       "      <td>2512444</td>\n",
       "    </tr>\n",
       "    <tr>\n",
       "      <th>1</th>\n",
       "      <td>올인원 패키지 : 업무자동화_VBA</td>\n",
       "      <td>-</td>\n",
       "      <td>767491</td>\n",
       "      <td>8058.0</td>\n",
       "      <td>1.049915</td>\n",
       "      <td>295.974808</td>\n",
       "      <td>2384965</td>\n",
       "    </tr>\n",
       "    <tr>\n",
       "      <th>2</th>\n",
       "      <td>ㅍAOP 전체_중복키워드_디자인(삭제)</td>\n",
       "      <td>일러스트</td>\n",
       "      <td>1137840</td>\n",
       "      <td>324.0</td>\n",
       "      <td>0.028475</td>\n",
       "      <td>4841.663580</td>\n",
       "      <td>1568699</td>\n",
       "    </tr>\n",
       "    <tr>\n",
       "      <th>3</th>\n",
       "      <td>올인원 패키지 : 데이터 분석 입문 온라인_파콘</td>\n",
       "      <td>-</td>\n",
       "      <td>694106</td>\n",
       "      <td>1863.6</td>\n",
       "      <td>0.268489</td>\n",
       "      <td>630.593475</td>\n",
       "      <td>1175174</td>\n",
       "    </tr>\n",
       "    <tr>\n",
       "      <th>4</th>\n",
       "      <td>3. html</td>\n",
       "      <td>HTML</td>\n",
       "      <td>9626374</td>\n",
       "      <td>813.6</td>\n",
       "      <td>0.008452</td>\n",
       "      <td>1408.435349</td>\n",
       "      <td>1145903</td>\n",
       "    </tr>\n",
       "  </tbody>\n",
       "</table>\n",
       "</div>"
      ],
      "text/plain": [
       "                         광고그룹   키워드      노출수     클릭수    클릭률(%)  \\\n",
       "0   올인원 패키지 : 디자인 툴_파워컨텐츠_포토샵     -  2319456  9606.0  0.414149   \n",
       "1         올인원 패키지 : 업무자동화_VBA     -   767491  8058.0  1.049915   \n",
       "2       ㅍAOP 전체_중복키워드_디자인(삭제)  일러스트  1137840   324.0  0.028475   \n",
       "3  올인원 패키지 : 데이터 분석 입문 온라인_파콘     -   694106  1863.6  0.268489   \n",
       "4                     3. html  HTML  9626374   813.6  0.008452   \n",
       "\n",
       "   평균클릭비용(VAT포함,원)  총비용(VAT포함,원)  \n",
       "0       261.549448       2512444  \n",
       "1       295.974808       2384965  \n",
       "2      4841.663580       1568699  \n",
       "3       630.593475       1175174  \n",
       "4      1408.435349       1145903  "
      ]
     },
     "execution_count": 22,
     "metadata": {},
     "output_type": "execute_result"
    }
   ],
   "source": [
    "df=pd.read_excel('./data/네이버보고서.xls', utf='kr',skiprows=[0])\n",
    "df.head()"
   ]
  },
  {
   "cell_type": "code",
   "execution_count": 43,
   "metadata": {},
   "outputs": [
    {
     "name": "stdout",
     "output_type": "stream",
     "text": [
      "<class 'pandas.core.frame.DataFrame'>\n",
      "RangeIndex: 1381 entries, 0 to 1380\n",
      "Data columns (total 7 columns):\n",
      " #   Column           Non-Null Count  Dtype  \n",
      "---  ------           --------------  -----  \n",
      " 0   광고그룹             1381 non-null   object \n",
      " 1   키워드              1381 non-null   object \n",
      " 2   노출수              1381 non-null   int64  \n",
      " 3   클릭수              1381 non-null   float64\n",
      " 4   클릭률(%)           1381 non-null   float64\n",
      " 5   평균클릭비용(VAT포함,원)  1381 non-null   float64\n",
      " 6   총비용(VAT포함,원)     1381 non-null   int64  \n",
      "dtypes: float64(3), int64(2), object(2)\n",
      "memory usage: 75.6+ KB\n"
     ]
    }
   ],
   "source": [
    "df.info()"
   ]
  },
  {
   "cell_type": "code",
   "execution_count": 37,
   "metadata": {
    "scrolled": true
   },
   "outputs": [
    {
     "data": {
      "text/html": [
       "<div>\n",
       "<style scoped>\n",
       "    .dataframe tbody tr th:only-of-type {\n",
       "        vertical-align: middle;\n",
       "    }\n",
       "\n",
       "    .dataframe tbody tr th {\n",
       "        vertical-align: top;\n",
       "    }\n",
       "\n",
       "    .dataframe thead th {\n",
       "        text-align: right;\n",
       "    }\n",
       "</style>\n",
       "<table border=\"1\" class=\"dataframe\">\n",
       "  <thead>\n",
       "    <tr style=\"text-align: right;\">\n",
       "      <th></th>\n",
       "      <th>노출수</th>\n",
       "      <th>클릭수</th>\n",
       "      <th>클릭률(%)</th>\n",
       "      <th>평균클릭비용(VAT포함,원)</th>\n",
       "      <th>총비용(VAT포함,원)</th>\n",
       "    </tr>\n",
       "  </thead>\n",
       "  <tbody>\n",
       "    <tr>\n",
       "      <th>count</th>\n",
       "      <td>1.381000e+03</td>\n",
       "      <td>1381.000000</td>\n",
       "      <td>1381.000000</td>\n",
       "      <td>1381.000000</td>\n",
       "      <td>1.381000e+03</td>\n",
       "    </tr>\n",
       "    <tr>\n",
       "      <th>mean</th>\n",
       "      <td>3.505415e+04</td>\n",
       "      <td>52.530630</td>\n",
       "      <td>0.352918</td>\n",
       "      <td>981.631962</td>\n",
       "      <td>3.791958e+04</td>\n",
       "    </tr>\n",
       "    <tr>\n",
       "      <th>std</th>\n",
       "      <td>2.964650e+05</td>\n",
       "      <td>387.502772</td>\n",
       "      <td>1.000462</td>\n",
       "      <td>1372.389897</td>\n",
       "      <td>1.421492e+05</td>\n",
       "    </tr>\n",
       "    <tr>\n",
       "      <th>min</th>\n",
       "      <td>1.001000e+03</td>\n",
       "      <td>0.000000</td>\n",
       "      <td>0.000000</td>\n",
       "      <td>0.000000</td>\n",
       "      <td>0.000000e+00</td>\n",
       "    </tr>\n",
       "    <tr>\n",
       "      <th>25%</th>\n",
       "      <td>1.814000e+03</td>\n",
       "      <td>1.200000</td>\n",
       "      <td>0.010000</td>\n",
       "      <td>64.170000</td>\n",
       "      <td>7.700000e+01</td>\n",
       "    </tr>\n",
       "    <tr>\n",
       "      <th>50%</th>\n",
       "      <td>3.805000e+03</td>\n",
       "      <td>3.600000</td>\n",
       "      <td>0.060000</td>\n",
       "      <td>395.980000</td>\n",
       "      <td>2.123000e+03</td>\n",
       "    </tr>\n",
       "    <tr>\n",
       "      <th>75%</th>\n",
       "      <td>1.073400e+04</td>\n",
       "      <td>14.400000</td>\n",
       "      <td>0.240000</td>\n",
       "      <td>1302.810000</td>\n",
       "      <td>1.743500e+04</td>\n",
       "    </tr>\n",
       "    <tr>\n",
       "      <th>max</th>\n",
       "      <td>9.626374e+06</td>\n",
       "      <td>9606.000000</td>\n",
       "      <td>13.590000</td>\n",
       "      <td>9362.530000</td>\n",
       "      <td>2.512444e+06</td>\n",
       "    </tr>\n",
       "  </tbody>\n",
       "</table>\n",
       "</div>"
      ],
      "text/plain": [
       "                노출수          클릭수       클릭률(%)  평균클릭비용(VAT포함,원)  총비용(VAT포함,원)\n",
       "count  1.381000e+03  1381.000000  1381.000000      1381.000000  1.381000e+03\n",
       "mean   3.505415e+04    52.530630     0.352918       981.631962  3.791958e+04\n",
       "std    2.964650e+05   387.502772     1.000462      1372.389897  1.421492e+05\n",
       "min    1.001000e+03     0.000000     0.000000         0.000000  0.000000e+00\n",
       "25%    1.814000e+03     1.200000     0.010000        64.170000  7.700000e+01\n",
       "50%    3.805000e+03     3.600000     0.060000       395.980000  2.123000e+03\n",
       "75%    1.073400e+04    14.400000     0.240000      1302.810000  1.743500e+04\n",
       "max    9.626374e+06  9606.000000    13.590000      9362.530000  2.512444e+06"
      ]
     },
     "execution_count": 37,
     "metadata": {},
     "output_type": "execute_result"
    }
   ],
   "source": [
    "df.describe()"
   ]
  },
  {
   "cell_type": "code",
   "execution_count": 46,
   "metadata": {},
   "outputs": [
    {
     "data": {
      "text/plain": [
       "Index(['광고그룹', '키워드', '노출수', '클릭수', '클릭률(%)', '평균클릭비용(VAT포함,원)',\n",
       "       '총비용(VAT포함,원)'],\n",
       "      dtype='object')"
      ]
     },
     "execution_count": 46,
     "metadata": {},
     "output_type": "execute_result"
    }
   ],
   "source": [
    "df.columns"
   ]
  },
  {
   "cell_type": "code",
   "execution_count": null,
   "metadata": {},
   "outputs": [],
   "source": [
    "# 항상 float 형식으로, 실수는 소수점 2자리로 반올림하여 출력\n",
    "pd.set_option('display.float_format', '{:.2f}'.format) "
   ]
  },
  {
   "cell_type": "code",
   "execution_count": null,
   "metadata": {},
   "outputs": [],
   "source": [
    "df.isnull().sum() #칼럼 단위 결측치 확인\n",
    "# df.isnull().sum(axis=1) #행 단위 결측치 확인"
   ]
  },
  {
   "cell_type": "code",
   "execution_count": 47,
   "metadata": {},
   "outputs": [
    {
     "name": "stdout",
     "output_type": "stream",
     "text": [
      "행과 열 :  (1381, 7)\n",
      "광고그룹 고유 개수 : 186\n",
      "키워드 고유 개수 :  1112\n"
     ]
    }
   ],
   "source": [
    "print('행과 열 : ', df.shape)\n",
    "print('광고그룹 고유 개수 :', df['광고그룹'].nunique())\n",
    "print('키워드 고유 개수 : ', df['키워드'].nunique())"
   ]
  },
  {
   "cell_type": "code",
   "execution_count": 48,
   "metadata": {},
   "outputs": [
    {
     "data": {
      "text/plain": [
       "올인원 패키지 : 업무자동화_3. 엑셀            93\n",
       "AOP 전체_중복키워드_디자인                 57\n",
       "#000_마케팅 전체_main                 48\n",
       "ㅍAOP 전체_중복키워드_디자인(삭제)            46\n",
       "1. 전체                            26\n",
       "                                 ..\n",
       "올인원 패키지 : 디지털 마케팅_2. 페이스북 광고      1\n",
       "올인원 패키지 : 파이썬 웹 개발_3.FLASK기초      1\n",
       "올인원 패키지 : 1인 쇼핑몰 시작하기_04.호스팅사     1\n",
       "올인원 패키지 : 영상 제작/편집_10.패캠강의        1\n",
       "프론트엔드 개발 스쿨 12기_기존 키워드            1\n",
       "Name: 광고그룹, Length: 186, dtype: int64"
      ]
     },
     "execution_count": 48,
     "metadata": {},
     "output_type": "execute_result"
    }
   ],
   "source": [
    "df['광고그룹'].value_counts()"
   ]
  },
  {
   "cell_type": "code",
   "execution_count": null,
   "metadata": {},
   "outputs": [],
   "source": []
  },
  {
   "cell_type": "markdown",
   "metadata": {},
   "source": [
    "### ▼"
   ]
  },
  {
   "cell_type": "code",
   "execution_count": 50,
   "metadata": {},
   "outputs": [
    {
     "data": {
      "text/plain": [
       "4       9626374\n",
       "173     3095998\n",
       "0       2319456\n",
       "9       1887822\n",
       "13      1470452\n",
       "         ...   \n",
       "442        1007\n",
       "983        1006\n",
       "597        1005\n",
       "445        1003\n",
       "1057       1001\n",
       "Name: 노출수, Length: 1381, dtype: int64"
      ]
     },
     "execution_count": 50,
     "metadata": {},
     "output_type": "execute_result"
    }
   ],
   "source": [
    "df['노출수'].sort_values(ascending=False)"
   ]
  },
  {
   "cell_type": "code",
   "execution_count": 59,
   "metadata": {},
   "outputs": [
    {
     "data": {
      "text/html": [
       "<div>\n",
       "<style scoped>\n",
       "    .dataframe tbody tr th:only-of-type {\n",
       "        vertical-align: middle;\n",
       "    }\n",
       "\n",
       "    .dataframe tbody tr th {\n",
       "        vertical-align: top;\n",
       "    }\n",
       "\n",
       "    .dataframe thead th {\n",
       "        text-align: right;\n",
       "    }\n",
       "</style>\n",
       "<table border=\"1\" class=\"dataframe\">\n",
       "  <thead>\n",
       "    <tr style=\"text-align: right;\">\n",
       "      <th></th>\n",
       "      <th>index</th>\n",
       "      <th>노출수</th>\n",
       "    </tr>\n",
       "  </thead>\n",
       "  <tbody>\n",
       "    <tr>\n",
       "      <th>0</th>\n",
       "      <td>1057</td>\n",
       "      <td>1001</td>\n",
       "    </tr>\n",
       "    <tr>\n",
       "      <th>1</th>\n",
       "      <td>445</td>\n",
       "      <td>1003</td>\n",
       "    </tr>\n",
       "    <tr>\n",
       "      <th>2</th>\n",
       "      <td>597</td>\n",
       "      <td>1005</td>\n",
       "    </tr>\n",
       "    <tr>\n",
       "      <th>3</th>\n",
       "      <td>983</td>\n",
       "      <td>1006</td>\n",
       "    </tr>\n",
       "    <tr>\n",
       "      <th>4</th>\n",
       "      <td>442</td>\n",
       "      <td>1007</td>\n",
       "    </tr>\n",
       "  </tbody>\n",
       "</table>\n",
       "</div>"
      ],
      "text/plain": [
       "   index   노출수\n",
       "0   1057  1001\n",
       "1    445  1003\n",
       "2    597  1005\n",
       "3    983  1006\n",
       "4    442  1007"
      ]
     },
     "execution_count": 59,
     "metadata": {},
     "output_type": "execute_result"
    }
   ],
   "source": [
    "imp_sort = df['노출수'].sort_values()\n",
    "imp_sort = imp_sort.reset_index() #기본 인덱스 설정\n",
    "imp_sort.head()"
   ]
  },
  {
   "cell_type": "code",
   "execution_count": 60,
   "metadata": {},
   "outputs": [
    {
     "data": {
      "text/html": [
       "<div>\n",
       "<style scoped>\n",
       "    .dataframe tbody tr th:only-of-type {\n",
       "        vertical-align: middle;\n",
       "    }\n",
       "\n",
       "    .dataframe tbody tr th {\n",
       "        vertical-align: top;\n",
       "    }\n",
       "\n",
       "    .dataframe thead th {\n",
       "        text-align: right;\n",
       "    }\n",
       "</style>\n",
       "<table border=\"1\" class=\"dataframe\">\n",
       "  <thead>\n",
       "    <tr style=\"text-align: right;\">\n",
       "      <th></th>\n",
       "      <th>index</th>\n",
       "      <th>노출수</th>\n",
       "    </tr>\n",
       "  </thead>\n",
       "  <tbody>\n",
       "    <tr>\n",
       "      <th>0</th>\n",
       "      <td>1057</td>\n",
       "      <td>1001</td>\n",
       "    </tr>\n",
       "    <tr>\n",
       "      <th>1</th>\n",
       "      <td>445</td>\n",
       "      <td>1003</td>\n",
       "    </tr>\n",
       "    <tr>\n",
       "      <th>2</th>\n",
       "      <td>597</td>\n",
       "      <td>1005</td>\n",
       "    </tr>\n",
       "    <tr>\n",
       "      <th>3</th>\n",
       "      <td>983</td>\n",
       "      <td>1006</td>\n",
       "    </tr>\n",
       "    <tr>\n",
       "      <th>4</th>\n",
       "      <td>442</td>\n",
       "      <td>1007</td>\n",
       "    </tr>\n",
       "  </tbody>\n",
       "</table>\n",
       "</div>"
      ],
      "text/plain": [
       "   index   노출수\n",
       "0   1057  1001\n",
       "1    445  1003\n",
       "2    597  1005\n",
       "3    983  1006\n",
       "4    442  1007"
      ]
     },
     "execution_count": 60,
     "metadata": {},
     "output_type": "execute_result"
    }
   ],
   "source": [
    "imp_sort.drop('index',axis=1)\n",
    "imp_sort.head()"
   ]
  },
  {
   "cell_type": "code",
   "execution_count": 61,
   "metadata": {},
   "outputs": [
    {
     "data": {
      "text/html": [
       "<div>\n",
       "<style scoped>\n",
       "    .dataframe tbody tr th:only-of-type {\n",
       "        vertical-align: middle;\n",
       "    }\n",
       "\n",
       "    .dataframe tbody tr th {\n",
       "        vertical-align: top;\n",
       "    }\n",
       "\n",
       "    .dataframe thead th {\n",
       "        text-align: right;\n",
       "    }\n",
       "</style>\n",
       "<table border=\"1\" class=\"dataframe\">\n",
       "  <thead>\n",
       "    <tr style=\"text-align: right;\">\n",
       "      <th></th>\n",
       "      <th>노출수</th>\n",
       "    </tr>\n",
       "  </thead>\n",
       "  <tbody>\n",
       "    <tr>\n",
       "      <th>0</th>\n",
       "      <td>1001</td>\n",
       "    </tr>\n",
       "    <tr>\n",
       "      <th>1</th>\n",
       "      <td>1003</td>\n",
       "    </tr>\n",
       "    <tr>\n",
       "      <th>2</th>\n",
       "      <td>1005</td>\n",
       "    </tr>\n",
       "    <tr>\n",
       "      <th>3</th>\n",
       "      <td>1006</td>\n",
       "    </tr>\n",
       "    <tr>\n",
       "      <th>4</th>\n",
       "      <td>1007</td>\n",
       "    </tr>\n",
       "  </tbody>\n",
       "</table>\n",
       "</div>"
      ],
      "text/plain": [
       "    노출수\n",
       "0  1001\n",
       "1  1003\n",
       "2  1005\n",
       "3  1006\n",
       "4  1007"
      ]
     },
     "execution_count": 61,
     "metadata": {},
     "output_type": "execute_result"
    }
   ],
   "source": [
    "imp_sort.drop('index',axis=1,inplace=True)\n",
    "imp_sort.head()"
   ]
  },
  {
   "cell_type": "code",
   "execution_count": 62,
   "metadata": {},
   "outputs": [
    {
     "data": {
      "image/png": "[encoded data removed]",
      "text/plain": [
       "<Figure size 432x288 with 1 Axes>"
      ]
     },
     "metadata": {
      "needs_background": "light"
     },
     "output_type": "display_data"
    }
   ],
   "source": [
    "imp_sort.plot()\n",
    "plt.show()"
   ]
  },
  {
   "cell_type": "code",
   "execution_count": 63,
   "metadata": {},
   "outputs": [
    {
     "data": {
      "image/png": "[encoded data removed]",
      "text/plain": [
       "<Figure size 432x288 with 1 Axes>"
      ]
     },
     "metadata": {
      "needs_background": "light"
     },
     "output_type": "display_data"
    }
   ],
   "source": [
    "(((df['총비용(VAT포함,원)'].sort_values()).reset_index()).drop('index',axis=1)).plot()\n",
    "plt.show()"
   ]
  },
  {
   "cell_type": "code",
   "execution_count": null,
   "metadata": {},
   "outputs": [],
   "source": []
  },
  {
   "cell_type": "code",
   "execution_count": null,
   "metadata": {},
   "outputs": [],
   "source": []
  },
  {
   "cell_type": "code",
   "execution_count": 28,
   "metadata": {},
   "outputs": [
    {
     "data": {
      "text/plain": [
       "pandas.core.series.Series"
      ]
     },
     "execution_count": 28,
     "metadata": {},
     "output_type": "execute_result"
    }
   ],
   "source": [
    "# 형 변환\n",
    "\n",
    "clk = df['클릭수']\n",
    "clk = clk.astype(int)"
   ]
  },
  {
   "cell_type": "code",
   "execution_count": null,
   "metadata": {},
   "outputs": [],
   "source": []
  },
  {
   "cell_type": "code",
   "execution_count": null,
   "metadata": {},
   "outputs": [],
   "source": []
  },
  {
   "cell_type": "code",
   "execution_count": null,
   "metadata": {},
   "outputs": [],
   "source": []
  },
  {
   "cell_type": "code",
   "execution_count": null,
   "metadata": {},
   "outputs": [],
   "source": []
  },
  {
   "cell_type": "code",
   "execution_count": null,
   "metadata": {},
   "outputs": [],
   "source": []
  },
  {
   "cell_type": "code",
   "execution_count": null,
   "metadata": {},
   "outputs": [],
   "source": []
  },
  {
   "cell_type": "markdown",
   "metadata": {},
   "source": [
    "## CTR(클릭률) : 클릭수/노출수*100"
   ]
  },
  {
   "cell_type": "code",
   "execution_count": 31,
   "metadata": {},
   "outputs": [
    {
     "data": {
      "text/html": [
       "<div>\n",
       "<style scoped>\n",
       "    .dataframe tbody tr th:only-of-type {\n",
       "        vertical-align: middle;\n",
       "    }\n",
       "\n",
       "    .dataframe tbody tr th {\n",
       "        vertical-align: top;\n",
       "    }\n",
       "\n",
       "    .dataframe thead th {\n",
       "        text-align: right;\n",
       "    }\n",
       "</style>\n",
       "<table border=\"1\" class=\"dataframe\">\n",
       "  <thead>\n",
       "    <tr style=\"text-align: right;\">\n",
       "      <th></th>\n",
       "      <th>광고그룹</th>\n",
       "      <th>키워드</th>\n",
       "      <th>노출수</th>\n",
       "      <th>클릭수</th>\n",
       "      <th>클릭률(%)</th>\n",
       "      <th>평균클릭비용(VAT포함,원)</th>\n",
       "      <th>총비용(VAT포함,원)</th>\n",
       "    </tr>\n",
       "  </thead>\n",
       "  <tbody>\n",
       "    <tr>\n",
       "      <th>0</th>\n",
       "      <td>올인원 패키지 : 디자인 툴_파워컨텐츠_포토샵</td>\n",
       "      <td>-</td>\n",
       "      <td>2319456</td>\n",
       "      <td>9606.0</td>\n",
       "      <td>0.41</td>\n",
       "      <td>261.549448</td>\n",
       "      <td>2512444</td>\n",
       "    </tr>\n",
       "    <tr>\n",
       "      <th>1</th>\n",
       "      <td>올인원 패키지 : 업무자동화_VBA</td>\n",
       "      <td>-</td>\n",
       "      <td>767491</td>\n",
       "      <td>8058.0</td>\n",
       "      <td>1.05</td>\n",
       "      <td>295.974808</td>\n",
       "      <td>2384965</td>\n",
       "    </tr>\n",
       "    <tr>\n",
       "      <th>2</th>\n",
       "      <td>ㅍAOP 전체_중복키워드_디자인(삭제)</td>\n",
       "      <td>일러스트</td>\n",
       "      <td>1137840</td>\n",
       "      <td>324.0</td>\n",
       "      <td>0.03</td>\n",
       "      <td>4841.663580</td>\n",
       "      <td>1568699</td>\n",
       "    </tr>\n",
       "    <tr>\n",
       "      <th>3</th>\n",
       "      <td>올인원 패키지 : 데이터 분석 입문 온라인_파콘</td>\n",
       "      <td>-</td>\n",
       "      <td>694106</td>\n",
       "      <td>1863.6</td>\n",
       "      <td>0.27</td>\n",
       "      <td>630.593475</td>\n",
       "      <td>1175174</td>\n",
       "    </tr>\n",
       "    <tr>\n",
       "      <th>4</th>\n",
       "      <td>3. html</td>\n",
       "      <td>HTML</td>\n",
       "      <td>9626374</td>\n",
       "      <td>813.6</td>\n",
       "      <td>0.01</td>\n",
       "      <td>1408.435349</td>\n",
       "      <td>1145903</td>\n",
       "    </tr>\n",
       "  </tbody>\n",
       "</table>\n",
       "</div>"
      ],
      "text/plain": [
       "                         광고그룹   키워드      노출수     클릭수  클릭률(%)  평균클릭비용(VAT포함,원)  \\\n",
       "0   올인원 패키지 : 디자인 툴_파워컨텐츠_포토샵     -  2319456  9606.0    0.41       261.549448   \n",
       "1         올인원 패키지 : 업무자동화_VBA     -   767491  8058.0    1.05       295.974808   \n",
       "2       ㅍAOP 전체_중복키워드_디자인(삭제)  일러스트  1137840   324.0    0.03      4841.663580   \n",
       "3  올인원 패키지 : 데이터 분석 입문 온라인_파콘     -   694106  1863.6    0.27       630.593475   \n",
       "4                     3. html  HTML  9626374   813.6    0.01      1408.435349   \n",
       "\n",
       "   총비용(VAT포함,원)  \n",
       "0       2512444  \n",
       "1       2384965  \n",
       "2       1568699  \n",
       "3       1175174  \n",
       "4       1145903  "
      ]
     },
     "execution_count": 31,
     "metadata": {},
     "output_type": "execute_result"
    }
   ],
   "source": [
    "df['클릭률(%)'] = round(df['클릭수']/df['노출수']*100, 2)\n",
    "df.head()"
   ]
  },
  {
   "cell_type": "code",
   "execution_count": 33,
   "metadata": {},
   "outputs": [
    {
     "data": {
      "text/html": [
       "<div>\n",
       "<style scoped>\n",
       "    .dataframe tbody tr th:only-of-type {\n",
       "        vertical-align: middle;\n",
       "    }\n",
       "\n",
       "    .dataframe tbody tr th {\n",
       "        vertical-align: top;\n",
       "    }\n",
       "\n",
       "    .dataframe thead th {\n",
       "        text-align: right;\n",
       "    }\n",
       "</style>\n",
       "<table border=\"1\" class=\"dataframe\">\n",
       "  <thead>\n",
       "    <tr style=\"text-align: right;\">\n",
       "      <th></th>\n",
       "      <th>광고그룹</th>\n",
       "      <th>키워드</th>\n",
       "      <th>노출수</th>\n",
       "      <th>클릭수</th>\n",
       "      <th>클릭률(%)</th>\n",
       "      <th>평균클릭비용(VAT포함,원)</th>\n",
       "      <th>총비용(VAT포함,원)</th>\n",
       "    </tr>\n",
       "  </thead>\n",
       "  <tbody>\n",
       "    <tr>\n",
       "      <th>0</th>\n",
       "      <td>올인원 패키지 : 디자인 툴_파워컨텐츠_포토샵</td>\n",
       "      <td>-</td>\n",
       "      <td>2319456</td>\n",
       "      <td>9606.0</td>\n",
       "      <td>0.41</td>\n",
       "      <td>261.55</td>\n",
       "      <td>2512444</td>\n",
       "    </tr>\n",
       "    <tr>\n",
       "      <th>1</th>\n",
       "      <td>올인원 패키지 : 업무자동화_VBA</td>\n",
       "      <td>-</td>\n",
       "      <td>767491</td>\n",
       "      <td>8058.0</td>\n",
       "      <td>1.05</td>\n",
       "      <td>295.97</td>\n",
       "      <td>2384965</td>\n",
       "    </tr>\n",
       "    <tr>\n",
       "      <th>2</th>\n",
       "      <td>ㅍAOP 전체_중복키워드_디자인(삭제)</td>\n",
       "      <td>일러스트</td>\n",
       "      <td>1137840</td>\n",
       "      <td>324.0</td>\n",
       "      <td>0.03</td>\n",
       "      <td>4841.66</td>\n",
       "      <td>1568699</td>\n",
       "    </tr>\n",
       "    <tr>\n",
       "      <th>3</th>\n",
       "      <td>올인원 패키지 : 데이터 분석 입문 온라인_파콘</td>\n",
       "      <td>-</td>\n",
       "      <td>694106</td>\n",
       "      <td>1863.6</td>\n",
       "      <td>0.27</td>\n",
       "      <td>630.59</td>\n",
       "      <td>1175174</td>\n",
       "    </tr>\n",
       "    <tr>\n",
       "      <th>4</th>\n",
       "      <td>3. html</td>\n",
       "      <td>HTML</td>\n",
       "      <td>9626374</td>\n",
       "      <td>813.6</td>\n",
       "      <td>0.01</td>\n",
       "      <td>1408.44</td>\n",
       "      <td>1145903</td>\n",
       "    </tr>\n",
       "  </tbody>\n",
       "</table>\n",
       "</div>"
      ],
      "text/plain": [
       "                         광고그룹   키워드      노출수     클릭수  클릭률(%)  평균클릭비용(VAT포함,원)  \\\n",
       "0   올인원 패키지 : 디자인 툴_파워컨텐츠_포토샵     -  2319456  9606.0    0.41           261.55   \n",
       "1         올인원 패키지 : 업무자동화_VBA     -   767491  8058.0    1.05           295.97   \n",
       "2       ㅍAOP 전체_중복키워드_디자인(삭제)  일러스트  1137840   324.0    0.03          4841.66   \n",
       "3  올인원 패키지 : 데이터 분석 입문 온라인_파콘     -   694106  1863.6    0.27           630.59   \n",
       "4                     3. html  HTML  9626374   813.6    0.01          1408.44   \n",
       "\n",
       "   총비용(VAT포함,원)  \n",
       "0       2512444  \n",
       "1       2384965  \n",
       "2       1568699  \n",
       "3       1175174  \n",
       "4       1145903  "
      ]
     },
     "execution_count": 33,
     "metadata": {},
     "output_type": "execute_result"
    }
   ],
   "source": [
    "# 평균클릭비용(VAT포함,원) 칼럼의 반올림 처리\n",
    "\n",
    "df['평균클릭비용(VAT포함,원)'] = round(df['평균클릭비용(VAT포함,원)'],2)\n",
    "df.head()"
   ]
  },
  {
   "cell_type": "code",
   "execution_count": null,
   "metadata": {},
   "outputs": [],
   "source": []
  }
 ],
 "metadata": {
  "kernelspec": {
   "display_name": "Python 3",
   "language": "python",
   "name": "python3"
  },
  "language_info": {
   "codemirror_mode": {
    "name": "ipython",
    "version": 3
   },
   "file_extension": ".py",
   "mimetype": "text/x-python",
   "name": "python",
   "nbconvert_exporter": "python",
   "pygments_lexer": "ipython3",
   "version": "3.8.3"
  }
 },
 "nbformat": 4,
 "nbformat_minor": 4
}
