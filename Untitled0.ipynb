{
  "nbformat": 4,
  "nbformat_minor": 0,
  "metadata": {
    "colab": {
      "name": "Untitled0.ipynb",
      "provenance": [],
      "toc_visible": true,
      "mount_file_id": "1zsjsRcWxpWV_mnL2onsz4FbhU5iaQvHl",
      "authorship_tag": "ABX9TyOLUrFbrPFhJ5ZBUeMWngpl",
      "include_colab_link": true
    },
    "kernelspec": {
      "name": "python3",
      "display_name": "Python 3"
    }
  },
  "cells": [
    {
      "cell_type": "markdown",
      "metadata": {
        "id": "view-in-github",
        "colab_type": "text"
      },
      "source": [
        "<a href=\"https://colab.research.google.com/github/kopkopkopkopkop/I-will-be-a-bigman/blob/master/Untitled0.ipynb\" target=\"_parent\"><img src=\"https://colab.research.google.com/assets/colab-badge.svg\" alt=\"Open In Colab\"/></a>"
      ]
    },
    {
      "cell_type": "code",
      "metadata": {
        "id": "EsfvmkPISaKM",
        "colab_type": "code",
        "colab": {}
      },
      "source": [
        "import numpy as np\n",
        "import matplotlib.pyplot as plt\n",
        "import seaborn as sns\n",
        "import pandas as pd"
      ],
      "execution_count": 72,
      "outputs": []
    },
    {
      "cell_type": "code",
      "metadata": {
        "id": "x4di-rAo03SW",
        "colab_type": "code",
        "colab": {
          "base_uri": "https://localhost:8080/",
          "height": 35
        },
        "outputId": "e50ec873-f33e-464d-b98d-fc62cb3f252c"
      },
      "source": [
        "from google.colab import drive\n",
        "drive.mount('/content/drive')"
      ],
      "execution_count": 73,
      "outputs": [
        {
          "output_type": "stream",
          "text": [
            "Drive already mounted at /content/drive; to attempt to forcibly remount, call drive.mount(\"/content/drive\", force_remount=True).\n"
          ],
          "name": "stdout"
        }
      ]
    },
    {
      "cell_type": "code",
      "metadata": {
        "id": "_orgDMQF1cdX",
        "colab_type": "code",
        "colab": {
          "base_uri": "https://localhost:8080/",
          "height": 204
        },
        "outputId": "1fb06907-6ed7-4108-d344-fd50b84d322e"
      },
      "source": [
        "df = pd.read_csv('/content/drive/My Drive/bouncerate.csv')\n",
        "df.head()"
      ],
      "execution_count": 74,
      "outputs": [
        {
          "output_type": "execute_result",
          "data": {
            "text/html": [
              "<div>\n",
              "<style scoped>\n",
              "    .dataframe tbody tr th:only-of-type {\n",
              "        vertical-align: middle;\n",
              "    }\n",
              "\n",
              "    .dataframe tbody tr th {\n",
              "        vertical-align: top;\n",
              "    }\n",
              "\n",
              "    .dataframe thead th {\n",
              "        text-align: right;\n",
              "    }\n",
              "</style>\n",
              "<table border=\"1\" class=\"dataframe\">\n",
              "  <thead>\n",
              "    <tr style=\"text-align: right;\">\n",
              "      <th></th>\n",
              "      <th>페이지</th>\n",
              "      <th>평균 페이지 로드 시간(초)</th>\n",
              "      <th>페이지뷰 수</th>\n",
              "      <th>이탈률</th>\n",
              "      <th>종료율(%)</th>\n",
              "    </tr>\n",
              "  </thead>\n",
              "  <tbody>\n",
              "    <tr>\n",
              "      <th>0</th>\n",
              "      <td>www.cadillac.co.kr/shopping/promotion.php</td>\n",
              "      <td>5</td>\n",
              "      <td>373360</td>\n",
              "      <td>0.81</td>\n",
              "      <td>0.72</td>\n",
              "    </tr>\n",
              "    <tr>\n",
              "      <th>1</th>\n",
              "      <td>www.cadillac.co.kr/vehicle/xt6/vehicle.php</td>\n",
              "      <td>9</td>\n",
              "      <td>267551</td>\n",
              "      <td>0.87</td>\n",
              "      <td>0.77</td>\n",
              "    </tr>\n",
              "    <tr>\n",
              "      <th>2</th>\n",
              "      <td>m.cadillac.co.kr/vehicle/xt6/vehicle.php</td>\n",
              "      <td>10</td>\n",
              "      <td>181773</td>\n",
              "      <td>0.89</td>\n",
              "      <td>0.85</td>\n",
              "    </tr>\n",
              "    <tr>\n",
              "      <th>3</th>\n",
              "      <td>m.cadillac.co.kr/vehicle/xt5/vehicle.php</td>\n",
              "      <td>17</td>\n",
              "      <td>170895</td>\n",
              "      <td>0.90</td>\n",
              "      <td>0.86</td>\n",
              "    </tr>\n",
              "    <tr>\n",
              "      <th>4</th>\n",
              "      <td>www.cadillac.co.kr/promotion/event_testdrive.php</td>\n",
              "      <td>6</td>\n",
              "      <td>130198</td>\n",
              "      <td>0.86</td>\n",
              "      <td>0.83</td>\n",
              "    </tr>\n",
              "  </tbody>\n",
              "</table>\n",
              "</div>"
            ],
            "text/plain": [
              "                                                페이지  ...  종료율(%)\n",
              "0         www.cadillac.co.kr/shopping/promotion.php  ...    0.72\n",
              "1        www.cadillac.co.kr/vehicle/xt6/vehicle.php  ...    0.77\n",
              "2          m.cadillac.co.kr/vehicle/xt6/vehicle.php  ...    0.85\n",
              "3          m.cadillac.co.kr/vehicle/xt5/vehicle.php  ...    0.86\n",
              "4  www.cadillac.co.kr/promotion/event_testdrive.php  ...    0.83\n",
              "\n",
              "[5 rows x 5 columns]"
            ]
          },
          "metadata": {
            "tags": []
          },
          "execution_count": 74
        }
      ]
    },
    {
      "cell_type": "code",
      "metadata": {
        "id": "YLpAx8jIl11u",
        "colab_type": "code",
        "colab": {
          "base_uri": "https://localhost:8080/",
          "height": 297
        },
        "outputId": "38d150e3-572a-4e07-b542-6b48174fb63c"
      },
      "source": [
        "df.describe()"
      ],
      "execution_count": 75,
      "outputs": [
        {
          "output_type": "execute_result",
          "data": {
            "text/html": [
              "<div>\n",
              "<style scoped>\n",
              "    .dataframe tbody tr th:only-of-type {\n",
              "        vertical-align: middle;\n",
              "    }\n",
              "\n",
              "    .dataframe tbody tr th {\n",
              "        vertical-align: top;\n",
              "    }\n",
              "\n",
              "    .dataframe thead th {\n",
              "        text-align: right;\n",
              "    }\n",
              "</style>\n",
              "<table border=\"1\" class=\"dataframe\">\n",
              "  <thead>\n",
              "    <tr style=\"text-align: right;\">\n",
              "      <th></th>\n",
              "      <th>평균 페이지 로드 시간(초)</th>\n",
              "      <th>페이지뷰 수</th>\n",
              "      <th>이탈률</th>\n",
              "      <th>종료율(%)</th>\n",
              "    </tr>\n",
              "  </thead>\n",
              "  <tbody>\n",
              "    <tr>\n",
              "      <th>count</th>\n",
              "      <td>80.000000</td>\n",
              "      <td>8.000000e+01</td>\n",
              "      <td>80.000000</td>\n",
              "      <td>80.000000</td>\n",
              "    </tr>\n",
              "    <tr>\n",
              "      <th>mean</th>\n",
              "      <td>3.225000</td>\n",
              "      <td>4.546840e+04</td>\n",
              "      <td>0.649125</td>\n",
              "      <td>0.362625</td>\n",
              "    </tr>\n",
              "    <tr>\n",
              "      <th>std</th>\n",
              "      <td>3.449362</td>\n",
              "      <td>2.091996e+05</td>\n",
              "      <td>0.168171</td>\n",
              "      <td>0.255698</td>\n",
              "    </tr>\n",
              "    <tr>\n",
              "      <th>min</th>\n",
              "      <td>1.000000</td>\n",
              "      <td>1.001000e+03</td>\n",
              "      <td>0.200000</td>\n",
              "      <td>0.120000</td>\n",
              "    </tr>\n",
              "    <tr>\n",
              "      <th>25%</th>\n",
              "      <td>1.000000</td>\n",
              "      <td>1.861750e+03</td>\n",
              "      <td>0.557500</td>\n",
              "      <td>0.180000</td>\n",
              "    </tr>\n",
              "    <tr>\n",
              "      <th>50%</th>\n",
              "      <td>2.000000</td>\n",
              "      <td>4.323500e+03</td>\n",
              "      <td>0.650000</td>\n",
              "      <td>0.235000</td>\n",
              "    </tr>\n",
              "    <tr>\n",
              "      <th>75%</th>\n",
              "      <td>4.000000</td>\n",
              "      <td>1.122050e+04</td>\n",
              "      <td>0.770000</td>\n",
              "      <td>0.475000</td>\n",
              "    </tr>\n",
              "    <tr>\n",
              "      <th>max</th>\n",
              "      <td>19.000000</td>\n",
              "      <td>1.818736e+06</td>\n",
              "      <td>0.960000</td>\n",
              "      <td>0.950000</td>\n",
              "    </tr>\n",
              "  </tbody>\n",
              "</table>\n",
              "</div>"
            ],
            "text/plain": [
              "       평균 페이지 로드 시간(초)        페이지뷰 수        이탈률     종료율(%)\n",
              "count        80.000000  8.000000e+01  80.000000  80.000000\n",
              "mean          3.225000  4.546840e+04   0.649125   0.362625\n",
              "std           3.449362  2.091996e+05   0.168171   0.255698\n",
              "min           1.000000  1.001000e+03   0.200000   0.120000\n",
              "25%           1.000000  1.861750e+03   0.557500   0.180000\n",
              "50%           2.000000  4.323500e+03   0.650000   0.235000\n",
              "75%           4.000000  1.122050e+04   0.770000   0.475000\n",
              "max          19.000000  1.818736e+06   0.960000   0.950000"
            ]
          },
          "metadata": {
            "tags": []
          },
          "execution_count": 75
        }
      ]
    },
    {
      "cell_type": "code",
      "metadata": {
        "id": "1N0FHnv476rk",
        "colab_type": "code",
        "colab": {}
      },
      "source": [
        "df.columns=['Page', 'Avg. load time(S)', 'PV', 'Bounce Rate', 'Exit Rate']"
      ],
      "execution_count": 76,
      "outputs": []
    },
    {
      "cell_type": "code",
      "metadata": {
        "id": "imZN2KiOluKX",
        "colab_type": "code",
        "colab": {
          "base_uri": "https://localhost:8080/",
          "height": 35
        },
        "outputId": "6f57ae9c-fd0f-4d38-acc3-0b5477af3f84"
      },
      "source": [
        "df['Avg. load time(S)'].mean()"
      ],
      "execution_count": 77,
      "outputs": [
        {
          "output_type": "execute_result",
          "data": {
            "text/plain": [
              "3.225"
            ]
          },
          "metadata": {
            "tags": []
          },
          "execution_count": 77
        }
      ]
    },
    {
      "cell_type": "code",
      "metadata": {
        "id": "OSsHERmN--ZL",
        "colab_type": "code",
        "colab": {
          "base_uri": "https://localhost:8080/",
          "height": 204
        },
        "outputId": "aad4b23d-fc42-4074-b89d-6f87d71d6477"
      },
      "source": [
        "df.head()"
      ],
      "execution_count": 78,
      "outputs": [
        {
          "output_type": "execute_result",
          "data": {
            "text/html": [
              "<div>\n",
              "<style scoped>\n",
              "    .dataframe tbody tr th:only-of-type {\n",
              "        vertical-align: middle;\n",
              "    }\n",
              "\n",
              "    .dataframe tbody tr th {\n",
              "        vertical-align: top;\n",
              "    }\n",
              "\n",
              "    .dataframe thead th {\n",
              "        text-align: right;\n",
              "    }\n",
              "</style>\n",
              "<table border=\"1\" class=\"dataframe\">\n",
              "  <thead>\n",
              "    <tr style=\"text-align: right;\">\n",
              "      <th></th>\n",
              "      <th>Page</th>\n",
              "      <th>Avg. load time(S)</th>\n",
              "      <th>PV</th>\n",
              "      <th>Bounce Rate</th>\n",
              "      <th>Exit Rate</th>\n",
              "    </tr>\n",
              "  </thead>\n",
              "  <tbody>\n",
              "    <tr>\n",
              "      <th>0</th>\n",
              "      <td>www.cadillac.co.kr/shopping/promotion.php</td>\n",
              "      <td>5</td>\n",
              "      <td>373360</td>\n",
              "      <td>0.81</td>\n",
              "      <td>0.72</td>\n",
              "    </tr>\n",
              "    <tr>\n",
              "      <th>1</th>\n",
              "      <td>www.cadillac.co.kr/vehicle/xt6/vehicle.php</td>\n",
              "      <td>9</td>\n",
              "      <td>267551</td>\n",
              "      <td>0.87</td>\n",
              "      <td>0.77</td>\n",
              "    </tr>\n",
              "    <tr>\n",
              "      <th>2</th>\n",
              "      <td>m.cadillac.co.kr/vehicle/xt6/vehicle.php</td>\n",
              "      <td>10</td>\n",
              "      <td>181773</td>\n",
              "      <td>0.89</td>\n",
              "      <td>0.85</td>\n",
              "    </tr>\n",
              "    <tr>\n",
              "      <th>3</th>\n",
              "      <td>m.cadillac.co.kr/vehicle/xt5/vehicle.php</td>\n",
              "      <td>17</td>\n",
              "      <td>170895</td>\n",
              "      <td>0.90</td>\n",
              "      <td>0.86</td>\n",
              "    </tr>\n",
              "    <tr>\n",
              "      <th>4</th>\n",
              "      <td>www.cadillac.co.kr/promotion/event_testdrive.php</td>\n",
              "      <td>6</td>\n",
              "      <td>130198</td>\n",
              "      <td>0.86</td>\n",
              "      <td>0.83</td>\n",
              "    </tr>\n",
              "  </tbody>\n",
              "</table>\n",
              "</div>"
            ],
            "text/plain": [
              "                                               Page  ...  Exit Rate\n",
              "0         www.cadillac.co.kr/shopping/promotion.php  ...       0.72\n",
              "1        www.cadillac.co.kr/vehicle/xt6/vehicle.php  ...       0.77\n",
              "2          m.cadillac.co.kr/vehicle/xt6/vehicle.php  ...       0.85\n",
              "3          m.cadillac.co.kr/vehicle/xt5/vehicle.php  ...       0.86\n",
              "4  www.cadillac.co.kr/promotion/event_testdrive.php  ...       0.83\n",
              "\n",
              "[5 rows x 5 columns]"
            ]
          },
          "metadata": {
            "tags": []
          },
          "execution_count": 78
        }
      ]
    },
    {
      "cell_type": "code",
      "metadata": {
        "id": "yrrEPWHt1kLU",
        "colab_type": "code",
        "colab": {
          "base_uri": "https://localhost:8080/",
          "height": 173
        },
        "outputId": "900c071c-8a50-40da-ddda-34935a0f8ac1"
      },
      "source": [
        "corr = df.corr(method='pearson')\n",
        "corr"
      ],
      "execution_count": 79,
      "outputs": [
        {
          "output_type": "execute_result",
          "data": {
            "text/html": [
              "<div>\n",
              "<style scoped>\n",
              "    .dataframe tbody tr th:only-of-type {\n",
              "        vertical-align: middle;\n",
              "    }\n",
              "\n",
              "    .dataframe tbody tr th {\n",
              "        vertical-align: top;\n",
              "    }\n",
              "\n",
              "    .dataframe thead th {\n",
              "        text-align: right;\n",
              "    }\n",
              "</style>\n",
              "<table border=\"1\" class=\"dataframe\">\n",
              "  <thead>\n",
              "    <tr style=\"text-align: right;\">\n",
              "      <th></th>\n",
              "      <th>Avg. load time(S)</th>\n",
              "      <th>PV</th>\n",
              "      <th>Bounce Rate</th>\n",
              "      <th>Exit Rate</th>\n",
              "    </tr>\n",
              "  </thead>\n",
              "  <tbody>\n",
              "    <tr>\n",
              "      <th>Avg. load time(S)</th>\n",
              "      <td>1.000000</td>\n",
              "      <td>0.197218</td>\n",
              "      <td>0.452702</td>\n",
              "      <td>0.714615</td>\n",
              "    </tr>\n",
              "    <tr>\n",
              "      <th>PV</th>\n",
              "      <td>0.197218</td>\n",
              "      <td>1.000000</td>\n",
              "      <td>0.167774</td>\n",
              "      <td>0.231720</td>\n",
              "    </tr>\n",
              "    <tr>\n",
              "      <th>Bounce Rate</th>\n",
              "      <td>0.452702</td>\n",
              "      <td>0.167774</td>\n",
              "      <td>1.000000</td>\n",
              "      <td>0.581082</td>\n",
              "    </tr>\n",
              "    <tr>\n",
              "      <th>Exit Rate</th>\n",
              "      <td>0.714615</td>\n",
              "      <td>0.231720</td>\n",
              "      <td>0.581082</td>\n",
              "      <td>1.000000</td>\n",
              "    </tr>\n",
              "  </tbody>\n",
              "</table>\n",
              "</div>"
            ],
            "text/plain": [
              "                   Avg. load time(S)        PV  Bounce Rate  Exit Rate\n",
              "Avg. load time(S)           1.000000  0.197218     0.452702   0.714615\n",
              "PV                          0.197218  1.000000     0.167774   0.231720\n",
              "Bounce Rate                 0.452702  0.167774     1.000000   0.581082\n",
              "Exit Rate                   0.714615  0.231720     0.581082   1.000000"
            ]
          },
          "metadata": {
            "tags": []
          },
          "execution_count": 79
        }
      ]
    },
    {
      "cell_type": "code",
      "metadata": {
        "id": "_40G0Os72-NQ",
        "colab_type": "code",
        "colab": {
          "base_uri": "https://localhost:8080/",
          "height": 342
        },
        "outputId": "ec06bf11-71d8-4656-e7c9-45079ee3b55a"
      },
      "source": [
        "plt.figure(figsize = (6, 5))\n",
        "sns.heatmap(data = corr, annot = True, fmt = '.2f', linewidths = .5, cmap = 'Reds')"
      ],
      "execution_count": 80,
      "outputs": [
        {
          "output_type": "execute_result",
          "data": {
            "text/plain": [
              "<matplotlib.axes._subplots.AxesSubplot at 0x7f31d25837b8>"
            ]
          },
          "metadata": {
            "tags": []
          },
          "execution_count": 80
        },
        {
          "output_type": "display_data",
          "data": {
            "image/png": "[encoded data removed]",
            "text/plain": [
              "<Figure size 432x360 with 2 Axes>"
            ]
          },
          "metadata": {
            "tags": [],
            "needs_background": "light"
          }
        }
      ]
    },
    {
      "cell_type": "code",
      "metadata": {
        "id": "MBaADzwXenIa",
        "colab_type": "code",
        "colab": {}
      },
      "source": [
        ""
      ],
      "execution_count": 81,
      "outputs": []
    }
  ]
}