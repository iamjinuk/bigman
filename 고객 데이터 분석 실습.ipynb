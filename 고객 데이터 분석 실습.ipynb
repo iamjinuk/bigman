{
 "cells": [
  {
   "cell_type": "markdown",
   "metadata": {},
   "source": [
    ">머신러닝과 데이터분석 A-Z 올인원 패키지 Online :『고객데이터 분석 강좌』 를 참조한 notebook"
   ]
  },
  {
   "cell_type": "markdown",
   "metadata": {},
   "source": [
    "# <데이터 정보>\n",
    "This is a transnational data set which contains all the transactions occurring between 01/12/2010 and 09/12/2011 for a UK-based and registered non-store online retail.The company mainly sells unique all-occasion gifts. Many customers of the company are wholesalers.\n",
    "\n",
    "- Source : Dr Daqing Chen, Director: Public Analytics group. chend '@' lsbu.ac.uk, School of Engineering, London South Bank University, London SE1 0AA, UK.(원문) : https://archive.ics.uci.edu/ml/datasets/Online+Retail#\n",
    "\n",
    "\n",
    "# <데이터 명세>\n",
    "\n",
    "1. InvoiceNo: Invoice number. Nominal, a 6-digit integral number uniquely assigned to each transaction. If this code starts with letter 'c', it indicates a cancellation.\n",
    "2. StockCode: Product (item) code. Nominal, a 5-digit integral number uniquely assigned to each distinct product.\n",
    "3. Description: Product (item) name. Nominal.\n",
    "4. Quantity: The quantities of each product (item) per transaction. Numeric.\n",
    "5. InvoiceDate: Invice Date and time. Numeric, the day and time when each transaction was generated.\n",
    "6. UnitPrice: Unit price. Numeric, Product price per unit in sterling.\n",
    "7. CustomerID: Customer number. Nominal, a 5-digit integral number uniquely assigned to each customer.\n",
    "8. Country: Country name. Nominal, the name of the country where each customer resides."
   ]
  },
  {
   "cell_type": "markdown",
   "metadata": {},
   "source": [
    "-----------------------------"
   ]
  },
  {
   "cell_type": "markdown",
   "metadata": {},
   "source": [
    "# 0. 기본 설정"
   ]
  },
  {
   "cell_type": "code",
   "execution_count": 2,
   "metadata": {},
   "outputs": [],
   "source": [
    "import pandas as pd\n",
    "from pandas import Series\n",
    "import seaborn as sns\n",
    "from pandas import DataFrame\n",
    "\n",
    "import matplotlib.pyplot as plt"
   ]
  },
  {
   "cell_type": "code",
   "execution_count": 3,
   "metadata": {},
   "outputs": [],
   "source": [
    "import matplotlib\n",
    "from matplotlib import font_manager, rc\n",
    "import platform\n",
    "\n",
    "try : \n",
    "    if platform.system() == 'Windows':\n",
    "    # 윈도우인 경우\n",
    "        font_name = font_manager.FontProperties(fname=\"c:/Windows/Fonts/malgun.ttf\").get_name()\n",
    "        rc('font', family=font_name)\n",
    "    else:    \n",
    "    # Mac 인 경우\n",
    "        rc('font', family='AppleGothic')\n",
    "except : \n",
    "    pass\n",
    "matplotlib.rcParams['axes.unicode_minus'] = False   "
   ]
  },
  {
   "cell_type": "markdown",
   "metadata": {},
   "source": [
    "# 1. 데이터불러오기"
   ]
  },
  {
   "cell_type": "code",
   "execution_count": 8,
   "metadata": {},
   "outputs": [
    {
     "data": {
      "text/html": [
       "<div>\n",
       "<style scoped>\n",
       "    .dataframe tbody tr th:only-of-type {\n",
       "        vertical-align: middle;\n",
       "    }\n",
       "\n",
       "    .dataframe tbody tr th {\n",
       "        vertical-align: top;\n",
       "    }\n",
       "\n",
       "    .dataframe thead th {\n",
       "        text-align: right;\n",
       "    }\n",
       "</style>\n",
       "<table border=\"1\" class=\"dataframe\">\n",
       "  <thead>\n",
       "    <tr style=\"text-align: right;\">\n",
       "      <th></th>\n",
       "      <th>InvoiceNo</th>\n",
       "      <th>StockCode</th>\n",
       "      <th>Description</th>\n",
       "      <th>Quantity</th>\n",
       "      <th>InvoiceDate</th>\n",
       "      <th>UnitPrice</th>\n",
       "      <th>CustomerID</th>\n",
       "      <th>Country</th>\n",
       "    </tr>\n",
       "  </thead>\n",
       "  <tbody>\n",
       "    <tr>\n",
       "      <th>0</th>\n",
       "      <td>536365</td>\n",
       "      <td>85123A</td>\n",
       "      <td>WHITE HANGING HEART T-LIGHT HOLDER</td>\n",
       "      <td>6</td>\n",
       "      <td>2010-12-01 08:26:00</td>\n",
       "      <td>2.55</td>\n",
       "      <td>17850.0</td>\n",
       "      <td>United Kingdom</td>\n",
       "    </tr>\n",
       "    <tr>\n",
       "      <th>1</th>\n",
       "      <td>536365</td>\n",
       "      <td>71053</td>\n",
       "      <td>WHITE METAL LANTERN</td>\n",
       "      <td>6</td>\n",
       "      <td>2010-12-01 08:26:00</td>\n",
       "      <td>3.39</td>\n",
       "      <td>17850.0</td>\n",
       "      <td>United Kingdom</td>\n",
       "    </tr>\n",
       "    <tr>\n",
       "      <th>2</th>\n",
       "      <td>536365</td>\n",
       "      <td>84406B</td>\n",
       "      <td>CREAM CUPID HEARTS COAT HANGER</td>\n",
       "      <td>8</td>\n",
       "      <td>2010-12-01 08:26:00</td>\n",
       "      <td>2.75</td>\n",
       "      <td>17850.0</td>\n",
       "      <td>United Kingdom</td>\n",
       "    </tr>\n",
       "    <tr>\n",
       "      <th>3</th>\n",
       "      <td>536365</td>\n",
       "      <td>84029G</td>\n",
       "      <td>KNITTED UNION FLAG HOT WATER BOTTLE</td>\n",
       "      <td>6</td>\n",
       "      <td>2010-12-01 08:26:00</td>\n",
       "      <td>3.39</td>\n",
       "      <td>17850.0</td>\n",
       "      <td>United Kingdom</td>\n",
       "    </tr>\n",
       "    <tr>\n",
       "      <th>4</th>\n",
       "      <td>536365</td>\n",
       "      <td>84029E</td>\n",
       "      <td>RED WOOLLY HOTTIE WHITE HEART.</td>\n",
       "      <td>6</td>\n",
       "      <td>2010-12-01 08:26:00</td>\n",
       "      <td>3.39</td>\n",
       "      <td>17850.0</td>\n",
       "      <td>United Kingdom</td>\n",
       "    </tr>\n",
       "  </tbody>\n",
       "</table>\n",
       "</div>"
      ],
      "text/plain": [
       "  InvoiceNo StockCode                          Description  Quantity  \\\n",
       "0    536365    85123A   WHITE HANGING HEART T-LIGHT HOLDER         6   \n",
       "1    536365     71053                  WHITE METAL LANTERN         6   \n",
       "2    536365    84406B       CREAM CUPID HEARTS COAT HANGER         8   \n",
       "3    536365    84029G  KNITTED UNION FLAG HOT WATER BOTTLE         6   \n",
       "4    536365    84029E       RED WOOLLY HOTTIE WHITE HEART.         6   \n",
       "\n",
       "          InvoiceDate  UnitPrice  CustomerID         Country  \n",
       "0 2010-12-01 08:26:00       2.55     17850.0  United Kingdom  \n",
       "1 2010-12-01 08:26:00       3.39     17850.0  United Kingdom  \n",
       "2 2010-12-01 08:26:00       2.75     17850.0  United Kingdom  \n",
       "3 2010-12-01 08:26:00       3.39     17850.0  United Kingdom  \n",
       "4 2010-12-01 08:26:00       3.39     17850.0  United Kingdom  "
      ]
     },
     "execution_count": 8,
     "metadata": {},
     "output_type": "execute_result"
    }
   ],
   "source": [
    "retail = pd.read_excel('./data/OnlineRetail.xlsx')\n",
    "retail.head()"
   ]
  },
  {
   "cell_type": "markdown",
   "metadata": {},
   "source": [
    "#### 컬럼 확인하기\n",
    " - columns 속성으로 확인\n",
    " - 컬럼\n",
    "  - invoiceNo: 주문 번호\n",
    "  - StockCode: 아이템 아이디\n",
    "  - Description: 상품 설명\n",
    "  - Quantity: 상품 주문 수량\n",
    "  - InvoiceDate: 주문 시각\n",
    "  - UnitPrice: 상품 가격(동일한 통화)\n",
    "  - CustomerID: 고객 아이디\n",
    "  - Country: 고객 거주 지역(국가)"
   ]
  },
  {
   "cell_type": "code",
   "execution_count": null,
   "metadata": {},
   "outputs": [],
   "source": [
    "retail.columns"
   ]
  },
  {
   "cell_type": "markdown",
   "metadata": {},
   "source": [
    "#### 데이터 살펴보기\n",
    " 1. 데이터 분석의 가장 첫 단계\n",
    " 2. 데이터를 대략적으로 파악 가능(타입, 저장된 형태)\n",
    " 3. 데이터 cleansing 전략 수립"
   ]
  },
  {
   "cell_type": "code",
   "execution_count": null,
   "metadata": {},
   "outputs": [],
   "source": [
    "retail.head()"
   ]
  },
  {
   "cell_type": "code",
   "execution_count": null,
   "metadata": {},
   "outputs": [],
   "source": [
    "retail.info()"
   ]
  },
  {
   "cell_type": "code",
   "execution_count": null,
   "metadata": {},
   "outputs": [],
   "source": [
    "retail.describe()"
   ]
  },
  {
   "cell_type": "markdown",
   "metadata": {},
   "source": [
    "#### Data cleansing\n",
    " - null 데이터 처리\n",
    "  - CustomerID \n",
    " - Business 로직에 맞지 않은 데이터 처리\n",
    "  - 음수의 아이템 수량\n",
    "  - 가격이 0원 "
   ]
  },
  {
   "cell_type": "code",
   "execution_count": null,
   "metadata": {},
   "outputs": [],
   "source": [
    "retail.isnull().sum()"
   ]
  },
  {
   "cell_type": "markdown",
   "metadata": {},
   "source": [
    "#### null customerID 제거"
   ]
  },
  {
   "cell_type": "code",
   "execution_count": null,
   "metadata": {},
   "outputs": [],
   "source": [
    "retail = retail[pd.notnull(retail['CustomerID'])]\n",
    "len(retail)"
   ]
  },
  {
   "cell_type": "markdown",
   "metadata": {},
   "source": [
    "#### 비지니스 로직에 맞지 않은 데이터 제거\n",
    " - 수량, 가격 > 0"
   ]
  },
  {
   "cell_type": "code",
   "execution_count": null,
   "metadata": {},
   "outputs": [],
   "source": [
    "retail = retail[retail['Quantity'] > 0]\n",
    "retail = retail[retail['UnitPrice'] > 0]\n",
    "\n",
    "len(retail)"
   ]
  },
  {
   "cell_type": "code",
   "execution_count": null,
   "metadata": {},
   "outputs": [],
   "source": [
    "retail.info()"
   ]
  },
  {
   "cell_type": "code",
   "execution_count": null,
   "metadata": {},
   "outputs": [],
   "source": [
    "retail.describe()"
   ]
  },
  {
   "cell_type": "markdown",
   "metadata": {},
   "source": [
    "#### 데이터 타입 변경\n",
    " - 메모리 효율화\n",
    " - 올바른 데이터 타입 매칭"
   ]
  },
  {
   "cell_type": "code",
   "execution_count": null,
   "metadata": {},
   "outputs": [],
   "source": [
    "retail['CustomerID'] = retail['CustomerID'].astype(np.int32)\n",
    "retail.info()"
   ]
  },
  {
   "cell_type": "code",
   "execution_count": null,
   "metadata": {},
   "outputs": [],
   "source": []
  },
  {
   "cell_type": "markdown",
   "metadata": {},
   "source": [
    "#### 새로운 컬럼 추가\n",
    " - Quantity * UnitPrice는 고객의 총 지출 비용(CheckoutPrice)"
   ]
  },
  {
   "cell_type": "code",
   "execution_count": null,
   "metadata": {},
   "outputs": [],
   "source": [
    "retail['CheckoutPrice'] = retail['UnitPrice'] * retail['Quantity']\n",
    "retail.head()"
   ]
  },
  {
   "cell_type": "markdown",
   "metadata": {},
   "source": [
    "#### 정제 데이터 저장"
   ]
  },
  {
   "cell_type": "code",
   "execution_count": null,
   "metadata": {},
   "outputs": [],
   "source": [
    "retail.to_csv('./OnlineRetailClean.csv')"
   ]
  },
  {
   "cell_type": "markdown",
   "metadata": {},
   "source": [
    "#### 미니 프로젝트를 통한 데이터 분석의 목표\n",
    " 1. 매출 분석\n",
    " 2. 고객 분석\n",
    "  - 우수고객 선별\n",
    "  - 고객 리텐션 분석\n",
    " 3. push notification 실행 의사 결정 하기"
   ]
  },
  {
   "cell_type": "code",
   "execution_count": null,
   "metadata": {},
   "outputs": [],
   "source": []
  },
  {
   "cell_type": "code",
   "execution_count": null,
   "metadata": {},
   "outputs": [],
   "source": [
    "### 학습목표\n",
    "1. 가상 쇼핑몰 고객 주문 데이터 파악하기\n",
    " - 현재 상황(데이터로 부터) 파악\n",
    " - 모델 수립 혹은 목표 설정\n",
    "\n",
    "#### 데이터 셋 \n",
    " - 온라인 리테일 사이트의 2010/12 - 2011/12간의 주문 기록 데이터\n",
    " - 약 500,000건의 데이터 \n",
    " - 데이터 출처: [UCI ML Repository](https://archive.ics.uci.edu/ml/datasets/Online+Retail#)\n",
    "\n",
    "import numpy as np\n",
    "import pandas as pd\n",
    "\n",
    "retail = pd.read_csv('./OnlineRetail.csv')\n",
    "\n",
    "#### 컬럼 확인하기\n",
    " - columns 속성으로 확인\n",
    " - 컬럼\n",
    "  - invoiceNo: 주문 번호\n",
    "  - StockCode: 아이템 아이디\n",
    "  - Description: 상품 설명\n",
    "  - Quantity: 상품 주문 수량\n",
    "  - InvoiceDate: 주문 시각\n",
    "  - UnitPrice: 상품 가격(동일한 통화)\n",
    "  - CustomerID: 고객 아이디\n",
    "  - Country: 고객 거주 지역(국가)\n",
    "\n",
    "retail.columns\n",
    "\n",
    "#### 데이터 살펴보기\n",
    " 1. 데이터 분석의 가장 첫 단계\n",
    " 2. 데이터를 대략적으로 파악 가능(타입, 저장된 형태)\n",
    " 3. 데이터 cleansing 전략 수립\n",
    "\n",
    "retail.head()\n",
    "\n",
    "retail.info()\n",
    "\n",
    "retail.describe()\n",
    "\n",
    "#### Data cleansing\n",
    " - null 데이터 처리\n",
    "  - CustomerID \n",
    " - Business 로직에 맞지 않은 데이터 처리\n",
    "  - 음수의 아이템 수량\n",
    "  - 가격이 0원 \n",
    "\n",
    "retail.isnull().sum()\n",
    "\n",
    "#### null customerID 제거\n",
    "\n",
    "retail = retail[pd.notnull(retail['CustomerID'])]\n",
    "len(retail)\n",
    "\n",
    "#### 비지니스 로직에 맞지 않은 데이터 제거\n",
    " - 수량, 가격 > 0\n",
    "\n",
    "retail = retail[retail['Quantity'] > 0]\n",
    "retail = retail[retail['UnitPrice'] > 0]\n",
    "\n",
    "len(retail)\n",
    "\n",
    "retail.info()\n",
    "\n",
    "retail.describe()\n",
    "\n",
    "#### 데이터 타입 변경\n",
    " - 메모리 효율화\n",
    " - 올바른 데이터 타입 매칭\n",
    "\n",
    "retail['CustomerID'] = retail['CustomerID'].astype(np.int32)\n",
    "retail.info()\n",
    "\n",
    "\n",
    "\n",
    "#### 새로운 컬럼 추가\n",
    " - Quantity * UnitPrice는 고객의 총 지출 비용(CheckoutPrice)\n",
    "\n",
    "retail['CheckoutPrice'] = retail['UnitPrice'] * retail['Quantity']\n",
    "retail.head()\n",
    "\n",
    "#### 정제 데이터 저장\n",
    "\n",
    "retail.to_csv('./OnlineRetailClean.csv')\n",
    "\n",
    "#### 미니 프로젝트를 통한 데이터 분석의 목표\n",
    " 1. 매출 분석\n",
    " 2. 고객 분석\n",
    "  - 우수고객 선별\n",
    "  - 고객 리텐션 분석\n",
    " 3. push notification 실행 의사 결정 하기\n",
    "\n"
   ]
  }
 ],
 "metadata": {
  "kernelspec": {
   "display_name": "Python 3",
   "language": "python",
   "name": "python3"
  },
  "language_info": {
   "codemirror_mode": {
    "name": "ipython",
    "version": 3
   },
   "file_extension": ".py",
   "mimetype": "text/x-python",
   "name": "python",
   "nbconvert_exporter": "python",
   "pygments_lexer": "ipython3",
   "version": "3.8.3"
  }
 },
 "nbformat": 4,
 "nbformat_minor": 4
}
